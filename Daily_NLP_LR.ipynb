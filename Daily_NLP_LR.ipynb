{
  "nbformat": 4,
  "nbformat_minor": 0,
  "metadata": {
    "colab": {
      "provenance": [],
      "authorship_tag": "ABX9TyNekUvWgeU392cJFGwelX5V",
      "include_colab_link": true
    },
    "kernelspec": {
      "name": "python3",
      "display_name": "Python 3"
    },
    "language_info": {
      "name": "python"
    }
  },
  "cells": [
    {
      "cell_type": "markdown",
      "metadata": {
        "id": "view-in-github",
        "colab_type": "text"
      },
      "source": [
        "<a href=\"https://colab.research.google.com/github/Almamun809/Daily-NLP/blob/main/Daily_NLP_LR.ipynb\" target=\"_parent\"><img src=\"https://colab.research.google.com/assets/colab-badge.svg\" alt=\"Open In Colab\"/></a>"
      ]
    },
    {
      "cell_type": "code",
      "execution_count": null,
      "metadata": {
        "id": "7zgLD08Nt_Uz"
      },
      "outputs": [],
      "source": [
        "# import necessary libraries\n",
        "import pandas as pd\n",
        "from sklearn.feature_extraction.text import CountVectorizer, TfidfTransformer\n",
        "from sklearn.linear_model import LogisticRegression\n",
        "from sklearn.metrics import accuracy_score, classification_report\n",
        "from sklearn.model_selection import train_test_split\n",
        "\n",
        "X = data['processed_text'].values\n",
        "y = data['Label'].values\n",
        "\n",
        "# split the data into train and test sets\n",
        "X_train, X_test, y_train, y_test = train_test_split(X, y, test_size=0.1, random_state=35)\n",
        "\n",
        "# convert text data into feature vectors using CountVectorizer\n",
        "count_vect = CountVectorizer(ngram_range = (1, 2))\n",
        "X_train_counts = count_vect.fit_transform(X_train)\n",
        "\n",
        "# apply tf-idf transformation to the feature vectors\n",
        "tfidf_transformer = TfidfTransformer()\n",
        "X_train_tfidf = tfidf_transformer.fit_transform(X_train_counts)\n",
        "\n",
        "# train the logistic regression classifier\n",
        "lr_classifier = LogisticRegression(random_state=35, max_iter=1000)\n",
        "lr_classifier.fit(X_train_tfidf, y_train)\n",
        "\n",
        "# predict the sentiment of test data\n",
        "X_test_counts = count_vect.transform(X_test)\n",
        "X_test_tfidf = tfidf_transformer.transform(X_test_counts)\n",
        "y_pred = lr_classifier.predict(X_test_tfidf)\n",
        "\n",
        "# calculate accuracy score\n",
        "accuracy = accuracy_score(y_test, y_pred)\n",
        "print('Accuracy:', accuracy)\n",
        "\n",
        "# calculate classification report\n",
        "report = classification_report(y_test, y_pred)\n",
        "print('Classification Report:\\n', report)\n",
        "\n",
        "# predict sentiment of single data\n",
        "single_data = \"আমার মন খারাপ কারন আজ সকালে আমার পছন্দের খাবার পাইনি\"\n",
        "single_data_counts = count_vect.transform([single_data])\n",
        "single_data_tfidf = tfidf_transformer.transform(single_data_counts)\n",
        "single_data_pred = lr_classifier.predict(single_data_tfidf)\n",
        "print('Prediction for single data:', single_data_pred)"
      ]
    }
  ]
}