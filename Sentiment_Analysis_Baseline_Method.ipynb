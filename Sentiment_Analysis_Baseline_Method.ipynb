{
  "nbformat": 4,
  "nbformat_minor": 0,
  "metadata": {
    "colab": {
      "provenance": [],
      "authorship_tag": "ABX9TyP4TxNXaHloPqmY21SEwDSP",
      "include_colab_link": true
    },
    "kernelspec": {
      "name": "python3",
      "display_name": "Python 3"
    },
    "language_info": {
      "name": "python"
    }
  },
  "cells": [
    {
      "cell_type": "markdown",
      "metadata": {
        "id": "view-in-github",
        "colab_type": "text"
      },
      "source": [
        "<a href=\"https://colab.research.google.com/github/Almamun809/Daily-NLP/blob/main/Sentiment_Analysis_Baseline_Method.ipynb\" target=\"_parent\"><img src=\"https://colab.research.google.com/assets/colab-badge.svg\" alt=\"Open In Colab\"/></a>"
      ]
    },
    {
      "cell_type": "code",
      "execution_count": null,
      "metadata": {
        "id": "ZQip3ASXRC6v"
      },
      "outputs": [],
      "source": [
        "import numpy as np\n",
        "import pandas as pd\n",
        "from sklearn.model_selection import cross_val_score, KFold\n",
        "from sklearn.metrics import accuracy_score, precision_score, recall_score, f1_score\n",
        "from xgboost import XGBClassifier, DMatrix\n",
        "\n",
        "# Assuming you have your training data in a pandas DataFrame called 'data'\n",
        "X = data['Data']  # Feature\n",
        "y = data['Label']  # Target variable\n",
        "\n",
        "# Convert categorical features to numeric codes\n",
        "X = X.astype('category').cat.codes\n",
        "\n",
        "# Define the XGBoost classifier\n",
        "classifier = XGBClassifier(objective='multi:softmax', num_class=3)\n",
        "\n",
        "# Perform 5-fold cross-validation\n",
        "kfold = KFold(n_splits=5, shuffle=True, random_state=42)\n",
        "\n",
        "# Initialize lists to store evaluation metric scores\n",
        "accuracy_scores = []\n",
        "precision_scores = []\n",
        "recall_scores = []\n",
        "f1_scores = []\n",
        "\n",
        "# Iterate over the cross-validation folds\n",
        "for train_index, test_index in kfold.split(X):\n",
        "    X_train, X_test = X.iloc[train_index], X.iloc[test_index]\n",
        "    y_train, y_test = y.iloc[train_index], y.iloc[test_index]\n",
        "\n",
        "    # Create DMatrix for XGBoost with categorical feature support\n",
        "    dtrain = DMatrix(X_train, label=y_train, enable_categorical=True)\n",
        "    dtest = DMatrix(X_test, label=y_test, enable_categorical=True)\n",
        "\n",
        "    # Fit the classifier on the training data\n",
        "    classifier.fit(X_train, y_train)\n",
        "\n",
        "    # Predict the labels for the test data\n",
        "    y_pred = classifier.predict(X_test)\n",
        "\n",
        "    # Calculate evaluation metric scores\n",
        "    accuracy_scores.append(accuracy_score(y_test, y_pred))\n",
        "    precision_scores.append(precision_score(y_test, y_pred, average='macro'))\n",
        "    recall_scores.append(recall_score(y_test, y_pred, average='macro'))\n",
        "    f1_scores.append(f1_score(y_test, y_pred, average='macro'))\n",
        "\n",
        "# Calculate average scores across all folds\n",
        "accuracy_avg = np.mean(accuracy_scores)\n",
        "precision_avg = np.mean(precision_scores)\n",
        "recall_avg = np.mean(recall_scores)\n",
        "f1_avg = np.mean(f1_scores)\n",
        "\n",
        "# Print the evaluation metrics\n",
        "print(f'Accuracy: {accuracy_avg}')\n",
        "print(f'Precision: {precision_avg}')\n",
        "print(f'Recall: {recall_avg}')\n",
        "print(f'F1 Score: {f1_avg}')"
      ]
    }
  ]
}