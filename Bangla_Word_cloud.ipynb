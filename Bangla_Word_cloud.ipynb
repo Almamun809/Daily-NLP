{
  "nbformat": 4,
  "nbformat_minor": 0,
  "metadata": {
    "colab": {
      "provenance": [],
      "authorship_tag": "ABX9TyOhgJLl2xpkiq93XTKrs3gv",
      "include_colab_link": true
    },
    "kernelspec": {
      "name": "python3",
      "display_name": "Python 3"
    },
    "language_info": {
      "name": "python"
    }
  },
  "cells": [
    {
      "cell_type": "markdown",
      "metadata": {
        "id": "view-in-github",
        "colab_type": "text"
      },
      "source": [
        "<a href=\"https://colab.research.google.com/github/Almamun809/Daily-NLP/blob/main/Bangla_Word_cloud.ipynb\" target=\"_parent\"><img src=\"https://colab.research.google.com/assets/colab-badge.svg\" alt=\"Open In Colab\"/></a>"
      ]
    },
    {
      "cell_type": "code",
      "execution_count": null,
      "metadata": {
        "id": "jEUhRJgwUeKv"
      },
      "outputs": [],
      "source": [
        "import pandas as pd\n",
        "from wordcloud import WordCloud\n",
        "import matplotlib.pyplot as plt\n",
        "\n",
        "# Define the classes (0, 1, and 2)\n",
        "classes = [0, 1, 2]\n",
        "\n",
        "# Specify the path to the downloaded Kalpurush Bengali font file\n",
        "font_path = \"kalpurush.ttf\"  # Replace with the actual name of the font file\n",
        "\n",
        "# Create separate DataFrames for each class\n",
        "class_data = {}\n",
        "for label in classes:\n",
        "    class_data[label] = df[df['Label'] == label]\n",
        "\n",
        "# Generate word clouds for each class\n",
        "for label in classes:\n",
        "    # Concatenate all text data for the current class\n",
        "    text_data = ' '.join(class_data[label]['Data'])\n",
        "\n",
        "    # Create a word cloud with the specified font\n",
        "    wordcloud = WordCloud(width=800, height=400, background_color='white', font_path=font_path, collocations=False).generate(text_data)\n",
        "\n",
        "    # Display the word cloud\n",
        "    plt.figure(figsize=(6, 3))\n",
        "    plt.imshow(wordcloud, interpolation='bilinear')\n",
        "    plt.title(f'Word Cloud for Class {label}')\n",
        "    plt.axis('off')\n",
        "    plt.show()"
      ]
    }
  ]
}