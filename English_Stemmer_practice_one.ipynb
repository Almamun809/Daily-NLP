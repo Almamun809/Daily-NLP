{
  "nbformat": 4,
  "nbformat_minor": 0,
  "metadata": {
    "colab": {
      "provenance": [],
      "gpuType": "T4",
      "authorship_tag": "ABX9TyOeycfVRYz0TEGLKPAfKXaK",
      "include_colab_link": true
    },
    "kernelspec": {
      "name": "python3",
      "display_name": "Python 3"
    },
    "language_info": {
      "name": "python"
    },
    "accelerator": "GPU"
  },
  "cells": [
    {
      "cell_type": "markdown",
      "metadata": {
        "id": "view-in-github",
        "colab_type": "text"
      },
      "source": [
        "<a href=\"https://colab.research.google.com/github/Almamun809/Daily-NLP/blob/main/English_Stemmer_practice_one.ipynb\" target=\"_parent\"><img src=\"https://colab.research.google.com/assets/colab-badge.svg\" alt=\"Open In Colab\"/></a>"
      ]
    },
    {
      "cell_type": "code",
      "source": [
        "pip install nltk"
      ],
      "metadata": {
        "colab": {
          "base_uri": "https://localhost:8080/"
        },
        "id": "YuocoO60CPp_",
        "outputId": "7a7d2f1a-a2ee-45b9-9be6-ddc1b4e80a81"
      },
      "execution_count": 2,
      "outputs": [
        {
          "output_type": "stream",
          "name": "stdout",
          "text": [
            "Requirement already satisfied: nltk in /usr/local/lib/python3.10/dist-packages (3.8.1)\n",
            "Requirement already satisfied: click in /usr/local/lib/python3.10/dist-packages (from nltk) (8.1.7)\n",
            "Requirement already satisfied: joblib in /usr/local/lib/python3.10/dist-packages (from nltk) (1.3.2)\n",
            "Requirement already satisfied: regex>=2021.8.3 in /usr/local/lib/python3.10/dist-packages (from nltk) (2023.6.3)\n",
            "Requirement already satisfied: tqdm in /usr/local/lib/python3.10/dist-packages (from nltk) (4.66.1)\n"
          ]
        }
      ]
    },
    {
      "cell_type": "code",
      "source": [
        "import nltk\n",
        "nltk.download('punkt')"
      ],
      "metadata": {
        "colab": {
          "base_uri": "https://localhost:8080/"
        },
        "id": "cIKKmilBCYzY",
        "outputId": "999eec41-92a5-48af-d745-589b1ad78711"
      },
      "execution_count": 4,
      "outputs": [
        {
          "output_type": "stream",
          "name": "stderr",
          "text": [
            "[nltk_data] Downloading package punkt to /root/nltk_data...\n",
            "[nltk_data]   Unzipping tokenizers/punkt.zip.\n"
          ]
        },
        {
          "output_type": "execute_result",
          "data": {
            "text/plain": [
              "True"
            ]
          },
          "metadata": {},
          "execution_count": 4
        }
      ]
    },
    {
      "cell_type": "code",
      "execution_count": 5,
      "metadata": {
        "colab": {
          "base_uri": "https://localhost:8080/"
        },
        "id": "RW50qkPJBrZq",
        "outputId": "8f85d2d9-6a2e-4d7c-8928-a330efcaa91d"
      },
      "outputs": [
        {
          "output_type": "stream",
          "name": "stdout",
          "text": [
            "Original: I am running in the park\n",
            "Stemmed: i am run in the park\n",
            "\n",
            "Original: He runs daily for exercise\n",
            "Stemmed: he run daili for exercis\n",
            "\n",
            "Original: They ran to catch the bus\n",
            "Stemmed: they ran to catch the bu\n",
            "\n"
          ]
        }
      ],
      "source": [
        "import nltk\n",
        "from nltk.stem import PorterStemmer\n",
        "\n",
        "# Initialize the Porter Stemmer\n",
        "stemmer = PorterStemmer()\n",
        "\n",
        "# Example sentences\n",
        "sentences = [\n",
        "    \"I am running in the park\",\n",
        "    \"He runs daily for exercise\",\n",
        "    \"They ran to catch the bus\"\n",
        "]\n",
        "\n",
        "# Function to apply stemming to a sentence\n",
        "def stem_sentence(sentence):\n",
        "    words = nltk.word_tokenize(sentence)\n",
        "    stemmed_words = [stemmer.stem(word) for word in words]\n",
        "    return ' '.join(stemmed_words)\n",
        "\n",
        "# Apply stemming to each sentence\n",
        "stemmed_sentences = [stem_sentence(sentence) for sentence in sentences]\n",
        "\n",
        "# Print the original and stemmed sentences\n",
        "for i, sentence in enumerate(sentences):\n",
        "    print(f\"Original: {sentence}\")\n",
        "    print(f\"Stemmed: {stemmed_sentences[i]}\\n\")"
      ]
    }
  ]
}